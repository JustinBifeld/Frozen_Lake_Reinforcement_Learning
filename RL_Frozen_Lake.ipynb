{
  "nbformat": 4,
  "nbformat_minor": 0,
  "metadata": {
    "colab": {
      "name": "RL_Frozen_Lake.ipynb",
      "provenance": [],
      "authorship_tag": "ABX9TyPRzuuLkog1DlcnfSaRPwWX",
      "include_colab_link": true
    },
    "kernelspec": {
      "name": "python3",
      "display_name": "Python 3"
    }
  },
  "cells": [
    {
      "cell_type": "markdown",
      "metadata": {
        "id": "view-in-github",
        "colab_type": "text"
      },
      "source": [
        "<a href=\"https://colab.research.google.com/github/justin02-dev/Frozen_Lake_Reinforcement_Learning/blob/master/RL_Frozen_Lake.ipynb\" target=\"_parent\"><img src=\"https://colab.research.google.com/assets/colab-badge.svg\" alt=\"Open In Colab\"/></a>"
      ]
    },
    {
      "cell_type": "code",
      "metadata": {
        "id": "uouqS5XNARXn",
        "colab_type": "code",
        "colab": {}
      },
      "source": [
        "!pip install gym"
      ],
      "execution_count": null,
      "outputs": []
    },
    {
      "cell_type": "code",
      "metadata": {
        "id": "XwXnMwdsAY91",
        "colab_type": "code",
        "colab": {}
      },
      "source": [
        "import numpy as np\n",
        "import gym\n",
        "import random\n",
        "import time\n",
        "from IPython.display import clear_output"
      ],
      "execution_count": 2,
      "outputs": []
    },
    {
      "cell_type": "code",
      "metadata": {
        "id": "4AKvSSAPAbV2",
        "colab_type": "code",
        "colab": {}
      },
      "source": [
        "env = gym.make(\"FrozenLake-v0\")\n",
        "action_space_size = env.action_space.n\n",
        "state_space_size = env.observation_space.n\n",
        "\n",
        "q_table = np.zeros((state_space_size, action_space_size))\n",
        "\n",
        "num_episodes = 10000\n",
        "max_steps_per_episode = 100\n",
        "\n",
        "learning_rate = 0.1\n",
        "discount_rate = 0.99\n",
        "\n",
        "exploration_rate = 1\n",
        "max_exploration_rate = 1\n",
        "min_exploration_rate = 0.01\n",
        "exploration_decay_rate = 0.001\n",
        "\n"
      ],
      "execution_count": 3,
      "outputs": []
    },
    {
      "cell_type": "code",
      "metadata": {
        "id": "gNc27GtiAqYe",
        "colab_type": "code",
        "colab": {}
      },
      "source": [
        "rewards_all_episodes = []\n",
        "for episode in range(num_episodes):\n",
        "    state = env.reset()\n",
        "    done = False\n",
        "    rewards_current_episode = 0\n",
        "\n",
        "    for step in range(max_steps_per_episode): \n",
        "      exploration_rate_threshold = random.uniform(0, 1)\n",
        "      if exploration_rate_threshold > exploration_rate:\n",
        "        action = np.argmax(q_table[state,:]) \n",
        "      else:\n",
        "        action = env.action_space.sample()\n",
        "      new_state, reward, done, info = env.step(action)\n",
        "      q_table[state, action] = q_table[state, action] * (1 - learning_rate) + learning_rate * (reward + discount_rate * np.max(q_table[new_state, :]))\n",
        "      state = new_state \n",
        "      rewards_current_episode += reward \n",
        "      if done == True: \n",
        "        break\n",
        "      exploration_rate = min_exploration_rate + (max_exploration_rate - min_exploration_rate) * np.exp(-exploration_decay_rate*episode)\n",
        "    rewards_all_episodes.append(rewards_current_episode)"
      ],
      "execution_count": 4,
      "outputs": []
    },
    {
      "cell_type": "code",
      "metadata": {
        "id": "b0r3g66VBFhl",
        "colab_type": "code",
        "colab": {}
      },
      "source": [
        "# Calculate and print the average reward per thousand episodes\n",
        "rewards_per_thousand_episodes = np.split(np.array(rewards_all_episodes),num_episodes/1000)\n",
        "count = 1000\n",
        "\n",
        "print(\"********Average reward per thousand episodes********\\n\")\n",
        "for r in rewards_per_thousand_episodes:\n",
        "    print(count, \": \", str(sum(r/1000)))\n",
        "    count += 1000"
      ],
      "execution_count": null,
      "outputs": []
    },
    {
      "cell_type": "code",
      "metadata": {
        "id": "zdoXXE2ADh3T",
        "colab_type": "code",
        "colab": {}
      },
      "source": [
        "#play the game!\n",
        "for episode in range(3):\n",
        "    state = env.reset()\n",
        "    done = False\n",
        "    print(\"*****EPISODE \", episode+1, \"*****\\n\\n\\n\\n\")\n",
        "    time.sleep(1)\n",
        "    for step in range(max_steps_per_episode):        \n",
        "      clear_output(wait=True)\n",
        "      env.render()\n",
        "      time.sleep(0.3)\n",
        "      action = np.argmax(q_table[state,:])        \n",
        "      new_state, reward, done, info = env.step(action)\n",
        "      if done:\n",
        "        clear_output(wait=True)\n",
        "        env.render()\n",
        "        if reward == 1:\n",
        "            print(\"****You reached the goal!****\")\n",
        "            time.sleep(3)\n",
        "        else:\n",
        "            print(\"****You fell through a hole!****\")\n",
        "            time.sleep(3)\n",
        "            clear_output(wait=True)\n",
        "        break\n",
        "      state = new_state\n",
        "env.close()"
      ],
      "execution_count": null,
      "outputs": []
    }
  ]
}